{
 "cells": [
  {
   "cell_type": "markdown",
   "metadata": {},
   "source": [
    "# How Amazon works with Prime and Non-Prime Members"
   ]
  },
  {
   "cell_type": "code",
   "execution_count": 1,
   "metadata": {},
   "outputs": [],
   "source": [
    "import random    # random picking module\n",
    "import string "
   ]
  },
  {
   "cell_type": "markdown",
   "metadata": {},
   "source": [
    "- Attributes of a user required on amazon:\n",
    "1. User name\n",
    "2. email/Mobile number\n",
    "3. User Id which is assigned by company or we take id as input by users only.(randomly generated at backend)\n",
    "5. Function to check whether a user is prime or non prime (varible assigned data).Let us consider\n",
    "  - Prime => 0 \n",
    "  - Non prime => 1 "
   ]
  },
  {
   "cell_type": "code",
   "execution_count": 2,
   "metadata": {},
   "outputs": [],
   "source": [
    "# id as a six element random character\n",
    "\n",
    "def generate_id():\n",
    "    tokens = list(string.ascii_letters + string.digits)\n",
    "    uid = ''\n",
    "    for i in range(6):\n",
    "        uid += random.choice(tokens)\n",
    "    return uid"
   ]
  },
  {
   "cell_type": "code",
   "execution_count": 3,
   "metadata": {},
   "outputs": [],
   "source": [
    "class Amazon:            \n",
    "    def __init__(self):    \n",
    "        self.id = None\n",
    "        self.name = None      \n",
    "        self.email = None\n",
    "        self.order_cart = None  # shopping order list (multiple products can be ordered at a time so its a list)\n",
    "        self.isprime = 1          # initially everyone will be counted as non prime so 1\n",
    "    \n",
    "    def get_details(self):                          # function to take an input from user\n",
    "        self.id = generate_id()\n",
    "        self.name = input('Enter Name: ')\n",
    "        self.email = input('Enter a Email-address: ')\n",
    "        \n",
    "    def buy_prime(self):\n",
    "        self.isprime = 0   # if user buys a prime subscription then value of isprime changes to 0 for the current object(user)\n",
    "     \n",
    "    def buy_items(self):       \n",
    "        self.order_cart = [i for i in input('Enter the items you wish to buy: ').split(\",\")]  \n",
    "        "
   ]
  },
  {
   "cell_type": "code",
   "execution_count": 4,
   "metadata": {},
   "outputs": [],
   "source": [
    "user_list = []    # array implementation of a queue in a python list"
   ]
  },
  {
   "cell_type": "code",
   "execution_count": 5,
   "metadata": {},
   "outputs": [],
   "source": [
    "def find_user_pos(new_user):\n",
    "    user_count = len(user_list)\n",
    "    pos = 0\n",
    "    for i in range(user_count):\n",
    "        if user_list[i].isprime <= new_user.isprime:   # if old prime has value less than equal to new prime value then it will go on incrementing the position\n",
    "            pos += 1   \n",
    "    return pos"
   ]
  },
  {
   "cell_type": "code",
   "execution_count": 6,
   "metadata": {},
   "outputs": [
    {
     "name": "stdout",
     "output_type": "stream",
     "text": [
      "Enter Name: Hari Prakash\n",
      "Enter a Email-address: hari@gmail.com\n",
      "want to order? yes/no: yes\n",
      "Enter the items you wish to buy: Guitar, piano, voilin\n",
      "Do you want to buy Prime Membership? yes/no: no\n",
      "want to add more user? yes/no: yes\n",
      "Enter Name: kishan ghosh\n",
      "Enter a Email-address: kishanghosh12@gmail.com\n",
      "want to order? yes/no: yes\n",
      "Enter the items you wish to buy: bat, ball, tshirt\n",
      "Do you want to buy Prime Membership? yes/no: yes\n",
      "want to add more user? yes/no: yes\n",
      "Enter Name: priyanka mehta\n",
      "Enter a Email-address: priya@yahoo.com\n",
      "want to order? yes/no: yes\n",
      "Enter the items you wish to buy: shampoo, hair dryer\n",
      "Do you want to buy Prime Membership? yes/no: yes\n",
      "want to add more user? yes/no: yes\n",
      "Enter Name: shyam lal\n",
      "Enter a Email-address: shyamu@gmail.com\n",
      "want to order? yes/no: yes\n",
      "Enter the items you wish to buy: pen, book, color pens\n",
      "Do you want to buy Prime Membership? yes/no: no\n",
      "want to add more user? yes/no: yes\n",
      "Enter Name: karan thappar\n",
      "Enter a Email-address: kkthappar@gmail.com\n",
      "want to order? yes/no: yes\n",
      "Enter the items you wish to buy: photo frame, chair\n",
      "Do you want to buy Prime Membership? yes/no: no\n",
      "want to add more user? yes/no: yes\n",
      "Enter Name: pinkal karia\n",
      "Enter a Email-address: pinkaria@gmail.com\n",
      "want to order? yes/no: yes\n",
      "Enter the items you wish to buy: microphone, bluetooth speakers\n",
      "Do you want to buy Prime Membership? yes/no: yes\n",
      "want to add more user? yes/no: yes\n",
      "Enter Name: vaibhav singh\n",
      "Enter a Email-address: vs@yahoo.com\n",
      "want to order? yes/no: yes\n",
      "Enter the items you wish to buy: blanket, bedsheets\n",
      "Do you want to buy Prime Membership? yes/no: yes\n",
      "want to add more user? yes/no: no\n"
     ]
    }
   ],
   "source": [
    "# Let's create users \n",
    "\n",
    "ch = 'yes'\n",
    "while ch == 'yes':\n",
    "    new_user = Amazon()\n",
    "    new_user.get_details()\n",
    "    \n",
    "    op = input(\"want to order? yes/no: \")\n",
    "    if op == 'yes':\n",
    "        new_user.buy_items()\n",
    "        \n",
    "    op = input('Do you want to buy Prime Membership? yes/no: ')   # asking for membership subscription \n",
    "    if op == 'yes':\n",
    "        new_user.buy_prime()\n",
    "\n",
    "    pos = find_user_pos(new_user)         # sorting on priority basis by scanning new users and listing only primers inorder to save our sorting time \n",
    "    user_list.insert(pos, new_user)\n",
    "        \n",
    "    ch = input('want to add more user? yes/no: ')    # stop the add user loop\n",
    "        "
   ]
  },
  {
   "cell_type": "code",
   "execution_count": 7,
   "metadata": {},
   "outputs": [
    {
     "name": "stdout",
     "output_type": "stream",
     "text": [
      "[<__main__.Amazon object at 0x0000000004E59250>, <__main__.Amazon object at 0x0000000004E592B0>, <__main__.Amazon object at 0x0000000004E59070>, <__main__.Amazon object at 0x0000000004E59520>, <__main__.Amazon object at 0x0000000004E59040>, <__main__.Amazon object at 0x0000000004E59220>, <__main__.Amazon object at 0x0000000004E59490>]\n"
     ]
    }
   ],
   "source": [
    "print(user_list)"
   ]
  },
  {
   "cell_type": "code",
   "execution_count": 8,
   "metadata": {},
   "outputs": [
    {
     "name": "stdout",
     "output_type": "stream",
     "text": [
      "kishan ghosh 0 ['bat', ' ball', ' tshirt']\n",
      "priyanka mehta 0 ['shampoo', ' hair dryer']\n",
      "pinkal karia 0 ['microphone', ' bluetooth speakers']\n",
      "vaibhav singh 0 ['blanket', ' bedsheets']\n",
      "Hari Prakash 1 ['Guitar', ' piano', ' voilin']\n",
      "shyam lal 1 ['pen', ' book', ' color pens']\n",
      "karan thappar 1 ['photo frame', ' chair']\n"
     ]
    }
   ],
   "source": [
    "for i in user_list:\n",
    "    print(i.name, i.isprime, i.order_cart)"
   ]
  },
  {
   "cell_type": "code",
   "execution_count": 9,
   "metadata": {},
   "outputs": [
    {
     "name": "stdout",
     "output_type": "stream",
     "text": [
      "kishan ghosh 0\n",
      "priyanka mehta 0\n",
      "pinkal karia 0\n",
      "vaibhav singh 0\n",
      "Hari Prakash 1\n",
      "shyam lal 1\n",
      "karan thappar 1\n"
     ]
    }
   ],
   "source": [
    "for i in user_list:\n",
    "    print(i.name, i.isprime)     # arranging users based on priority of prime subscription by sorting (sorted function)"
   ]
  },
  {
   "cell_type": "code",
   "execution_count": 10,
   "metadata": {},
   "outputs": [
    {
     "name": "stdout",
     "output_type": "stream",
     "text": [
      "Hi kishan ghosh, your order has been shipped under Prime Delivery\n",
      "Hi priyanka mehta, your order has been shipped under Prime Delivery\n",
      "Hi pinkal karia, your order has been shipped under Prime Delivery\n",
      "Hi vaibhav singh, your order has been shipped under Prime Delivery\n",
      "Hi Hari Prakash, your order has been shipped\n",
      "Hi shyam lal, your order has been shipped\n",
      "Hi karan thappar, your order has been shipped\n"
     ]
    }
   ],
   "source": [
    "for i in user_list:\n",
    "    if i.isprime == 0:\n",
    "        print(f'Hi {i.name}, your order has been shipped under Prime Delivery')\n",
    "    else:\n",
    "        print(f'Hi {i.name}, your order has been shipped')"
   ]
  }
 ],
 "metadata": {
  "kernelspec": {
   "display_name": "Python 3",
   "language": "python",
   "name": "python3"
  },
  "language_info": {
   "codemirror_mode": {
    "name": "ipython",
    "version": 3
   },
   "file_extension": ".py",
   "mimetype": "text/x-python",
   "name": "python",
   "nbconvert_exporter": "python",
   "pygments_lexer": "ipython3",
   "version": "3.8.5"
  }
 },
 "nbformat": 4,
 "nbformat_minor": 4
}
